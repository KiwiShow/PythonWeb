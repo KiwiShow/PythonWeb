{
 "cells": [
  {
   "cell_type": "markdown",
   "metadata": {},
   "source": [
    "# Argparse学习笔记"
   ]
  },
  {
   "cell_type": "markdown",
   "metadata": {},
   "source": [
    "argparse 是一个命令行交互模块。能够解析sys.argv里的参数，也能自动产生帮助、使用和错误信息。是optparse的升级版。标准库中getopt模块也是命令行交互模块，如果熟悉C风格的getopt函数，可以使用它，如果想写更少的代码和更好的帮助和错误信息，使用argparse模块。\n",
    "这里主要参考[Argparse tutorial(HOWTOs)](https://docs.python.org/3/howto/argparse.html#getting-a-little-more-advanced)和[标准库文档](https://docs.python.org/3/library/argparse.html#parser-defaults)。"
   ]
  },
  {
   "cell_type": "code",
   "execution_count": null,
   "metadata": {},
   "outputs": [],
   "source": [
    "import argparse\n",
    "parser = argparse.ArgumentParser()\n",
    "parser.parse_args()"
   ]
  },
  {
   "cell_type": "markdown",
   "metadata": {},
   "source": [
    "一般来说，脚本中至少包含以上3行才能正常使用。\n",
    "第2行parser = argparse.ArgumentParser()\n",
    "运用ArgumentParser()类创建一个名为parser的ArgumentParser实例，所有参数均使用默认值。\n",
    "ArgumentParser()类参数如下:\n",
    "\n",
    "```py\n",
    "class argparse.ArgumentParser(prog=None, usage=None, description=None, epilog=None, parents=[], formatter_class=argparse.HelpFormatter, prefix_chars='-', fromfile_prefix_chars=None, argument_default=None, conflict_handler='error', add_help=True, allow_abbrev=True)\n",
    "```\n",
    "\n",
    "*每个关键字参数简介如下*\n",
    "- prog - 程序名称 (default: sys.argv[0])\n",
    "- usage - 描述程序用法的string (default: generated from arguments added to parser)\n",
    "- description - 显示在参数帮助之前的文本 (default: none)\n",
    "- epilog - 显示在参数帮助之后的文本 (default: none)\n",
    "- parents - A list of ArgumentParser objects whose arguments should also be included\n",
    "- formatter_class - A class for customizing the help output\n",
    "- prefix_chars - The set of characters that prefix optional arguments (default: ‘-‘)\n",
    "- fromfile_prefix_chars - The set of characters that prefix files from which additional arguments should be read (default: None)\n",
    "- argument_default - The global default value for arguments (default: None)\n",
    "- conflict_handler - The strategy for resolving conflicting optionals (usually unnecessary)\n",
    "- add_help - 默认添加一个 -h/--help 选项 (default: True)\n",
    "- allow_abbrev - Allows long options to be abbreviated if the abbreviation is unambiguous. (default: True)\n",
    "\n",
    "---\n",
    "\n",
    "第3行parser.parse_args()方法解析参数。\n",
    "该方法的关键字参数简介如下:\n",
    "\n",
    "```py\n",
    "ArgumentParser.parse_args(args=None, namespace=None)\n",
    "```\n",
    "\n",
    "- args - 被解析的参数(list类型). 默认从sys.argv获取.\n",
    "- namespace - An object to take the attributes. The default is a new empty Namespace object.\n",
    "\n",
    "---\n",
    "\n",
    "1. 如果直接在终端输入上面3行代码，会返回Namespace();\n",
    "2. 如果直接在pycharm的Python console输入，会报错\n",
    "\n",
    "```py\n",
    "usage: pydevconsole.py [-h]\n",
    "pydevconsole.py: error: unrecognized arguments: 63357 63358\n",
    "\n",
    "Process finished with exit code 2\n",
    "```\n",
    "3. 在jupyter notebook会出现什么，大家可以运行上面的代码试一试。\n",
    "\n",
    "HOWTOs里面的教程是将代码写在一个文件中，名称为prog.py.然后在终端输入python3 prog.py 参数1 参数2 运行。上面的3行代码其实什么也做不了，因为你还没有增加任何的参数解析功能。只是在创建parser实例的时候会默认添加一个-h/--help可选参数。所以在终端输入python3 prog.py -h/--help 可以查看。如果需要在以上3中环境中查看帮助，可以使用print_help函数。如下所示:\n",
    "\n",
    "1. 如果直接在终端输入上面3行代码，会返回\n",
    "\n",
    "```py\n",
    "usage: [-h]\n",
    "\n",
    "optional arguments:\n",
    "  -h, --help  show this help message and exit\n",
    "```\n",
    "\n",
    "2. 如果直接在pycharm的Python console输入，会返回\n",
    "\n",
    "```py\n",
    "usage: pydevconsole.py [-h]\n",
    "optional arguments:\n",
    "  -h, --help  show this help message and exit\n",
    "```\n",
    "\n",
    "3. 在jupyter notebook会出现什么，如下所示:"
   ]
  },
  {
   "cell_type": "code",
   "execution_count": null,
   "metadata": {
    "scrolled": true
   },
   "outputs": [],
   "source": [
    "import argparse\n",
    "parser = argparse.ArgumentParser()\n",
    "parser.print_help()"
   ]
  },
  {
   "cell_type": "markdown",
   "metadata": {},
   "source": [
    "除了使用print_help函数，还可以在parse_args函数上面做做文章。parse_args函数的参数args需要是一个列表即可。可以直接输入一个列表or用split()切割字符串。执行完毕后会退出当前对话。"
   ]
  },
  {
   "cell_type": "code",
   "execution_count": null,
   "metadata": {},
   "outputs": [],
   "source": [
    "import argparse\n",
    "parser = argparse.ArgumentParser()\n",
    "parser.parse_args('--help'.split())\n",
    "# parser.parse_args(['--help'])"
   ]
  },
  {
   "cell_type": "code",
   "execution_count": null,
   "metadata": {},
   "outputs": [],
   "source": [
    "import argparse\n",
    "parser = argparse.ArgumentParser(prog='prog')\n",
    "# parser.parse_args('prog.py --help'.split())\n",
    "parser.parse_args(['prog.py',  '--help'])"
   ]
  },
  {
   "cell_type": "markdown",
   "metadata": {},
   "source": [
    "一般来说，除了默认添加的-h/--help可选参数之外，还需要自己添加参数。参数分为2种:位置参数和可选参数。添加参数使用\n",
    "```py\n",
    "ArgumentParser.add_argument(name or flags...[, action][, nargs][, const][, default][, type][, choices][, required][, help][, metavar][, dest])\n",
    "```\n",
    "\n",
    "- name or flags - Either a name or a list of option strings, e.g. foo or -f, --foo.\n",
    "- action - The basic type of action to be taken when this argument is encountered at the command line.\n",
    "- nargs - The number of command-line arguments that should be consumed.\n",
    "- const - A constant value required by some action and nargs selections.\n",
    "- default - The value produced if the argument is absent from the command line.\n",
    "- type - The type to which the command-line argument should be converted.\n",
    "- choices - A container of the allowable values for the argument.\n",
    "- required - Whether or not the command-line option may be omitted (optionals only).\n",
    "- help - A brief description of what the argument does.\n",
    "- metavar - A name for the argument in usage messages.\n",
    "- dest - The name of the attribute to be added to the object returned by parse_args().\n",
    "\n",
    "我们从下面这个例子开始说明:"
   ]
  },
  {
   "cell_type": "code",
   "execution_count": null,
   "metadata": {},
   "outputs": [],
   "source": [
    "import argparse\n",
    "parser = argparse.ArgumentParser()\n",
    "parser.add_argument(\"echo\", help=\"echo the string you use here\")\n",
    "# args = parser.parse_args('2'.split())\n",
    "args = parser.parse_args('wiki'.split())\n",
    "print(args.echo)"
   ]
  },
  {
   "cell_type": "markdown",
   "metadata": {},
   "source": [
    "添加了一个位置参数echo，作用是输出位于该参数位置的任何字符串。如果我需要将获得的字符串变成数字该如何做呢？"
   ]
  },
  {
   "cell_type": "code",
   "execution_count": null,
   "metadata": {},
   "outputs": [],
   "source": [
    "import argparse\n",
    "parser = argparse.ArgumentParser()\n",
    "parser.add_argument(\"square\", help=\"display a square of a given number\", type=int)\n",
    "# parser.add_argument(\"square\", help=\"display a square of a given number\")\n",
    "args = parser.parse_args('2'.split())\n",
    "print(args.square**2)"
   ]
  },
  {
   "cell_type": "markdown",
   "metadata": {},
   "source": [
    "如上所示，需要增加一个type参数将字符串改成int类型。type可以设置为内置类型和函数，也可以设置成任何可调用对象。位置参数是必须有这个参数，而可选参数则是可有可无。下面再介绍可选参数。可选参数后面需要有可选参数的值，没有值会报错。"
   ]
  },
  {
   "cell_type": "code",
   "execution_count": null,
   "metadata": {},
   "outputs": [],
   "source": [
    "import argparse\n",
    "parser = argparse.ArgumentParser()\n",
    "parser.add_argument(\"--verbosity\", help=\"increase output verbosity\")\n",
    "args = parser.parse_args('--verbosity 1'.split())\n",
    "# args = parser.parse_args('--verbosity'.split())\n",
    "# args = parser.parse_args(''.split())\n",
    "if args.verbosity:\n",
    "    print(\"verbosity turned on\")"
   ]
  },
  {
   "cell_type": "markdown",
   "metadata": {},
   "source": [
    "你也可以在添加可选参数的时候设置action的值，默认是‘store’，即获取'--verbosity 1'中1为值。action的值还有其它选项。如‘store_true’和‘store_false’。还有‘store_const’,需要同时设置‘const’使用。还有‘count’，计算的是可选参数出现的次数。另外，还有‘append’、‘append_const’、‘help’、‘version’。当然，你也可以自己编写action。例子如下所示。"
   ]
  },
  {
   "cell_type": "code",
   "execution_count": null,
   "metadata": {},
   "outputs": [],
   "source": [
    "import argparse\n",
    "parser = argparse.ArgumentParser()\n",
    "parser.add_argument(\"--verbose\", help=\"increase output verbosity\",\n",
    "                    action=\"store_true\")\n",
    "args = parser.parse_args('--verbose'.split())\n",
    "if args.verbose:\n",
    "    print(\"verbosity turned on\")"
   ]
  },
  {
   "cell_type": "code",
   "execution_count": null,
   "metadata": {},
   "outputs": [],
   "source": [
    "import argparse\n",
    "parser = argparse.ArgumentParser()\n",
    "parser.add_argument('--foo', action='store_const', const=42)\n",
    "parser.parse_args(['--foo'])"
   ]
  },
  {
   "cell_type": "code",
   "execution_count": null,
   "metadata": {},
   "outputs": [],
   "source": [
    "import argparse\n",
    "parser = argparse.ArgumentParser()\n",
    "parser.add_argument('--verbose', '-v', action='count')\n",
    "parser.parse_args(['-vvv'])"
   ]
  },
  {
   "cell_type": "code",
   "execution_count": null,
   "metadata": {},
   "outputs": [],
   "source": [
    "import argparse\n",
    "class FooAction(argparse.Action):\n",
    "    def __init__(self, option_strings, dest, nargs=None, **kwargs):\n",
    "        if nargs is not None:\n",
    "            raise ValueError(\"nargs not allowed\")\n",
    "        super(FooAction, self).__init__(option_strings, dest, **kwargs)\n",
    "    def __call__(self, parser, namespace, values, option_string=None):\n",
    "        print('%r %r %r' % (namespace, values, option_string))\n",
    "        setattr(namespace, self.dest, values)\n",
    "\n",
    "parser = argparse.ArgumentParser()\n",
    "parser.add_argument('--foo', action=FooAction)\n",
    "parser.add_argument('bar', action=FooAction)\n",
    "args = parser.parse_args('1 --foo 2'.split())\n",
    "\n",
    "print(args)"
   ]
  },
  {
   "cell_type": "markdown",
   "metadata": {},
   "source": [
    "现在，我们需要将之前的例子拓展一下，位置参数和可选参数一起出现。"
   ]
  },
  {
   "cell_type": "code",
   "execution_count": null,
   "metadata": {},
   "outputs": [],
   "source": [
    "import argparse\n",
    "parser = argparse.ArgumentParser()\n",
    "parser.add_argument(\"square\", type=int,\n",
    "                    help=\"display a square of a given number\")\n",
    "parser.add_argument(\"-v\", \"--verbose\", action=\"store_true\",\n",
    "                    help=\"increase output verbosity\")\n",
    "# args = parser.parse_args('4'.split())\n",
    "args = parser.parse_args('4 --verbose'.split())\n",
    "# args = parser.parse_args('--verbose 4'.split())\n",
    "\n",
    "answer = args.square**2\n",
    "if args.verbose:\n",
    "    print(\"the square of {} equals {}\".format(args.square, answer))\n",
    "else:\n",
    "    print(answer)"
   ]
  },
  {
   "cell_type": "markdown",
   "metadata": {},
   "source": [
    "以上是有2种输出选择，下面可以根据--verbose的值有更多类型的输出。"
   ]
  },
  {
   "cell_type": "code",
   "execution_count": null,
   "metadata": {},
   "outputs": [],
   "source": [
    "import argparse\n",
    "parser = argparse.ArgumentParser()\n",
    "parser.add_argument(\"square\", type=int,\n",
    "                    help=\"display a square of a given number\")\n",
    "parser.add_argument(\"-v\", \"--verbose\", type=int,\n",
    "                    help=\"increase output verbosity\")\n",
    "# args = parser.parse_args('4 -v 1'.split())\n",
    "args = parser.parse_args('4 -v 2'.split())\n",
    "# args = parser.parse_args('4 -v 3'.split())\n",
    "\n",
    "answer = args.square**2\n",
    "if args.verbose == 2:\n",
    "    print(\"the square of {} equals {}\".format(args.square, answer))\n",
    "elif args.verbose == 1:\n",
    "    print(\"{}^2 == {}\".format(args.square, answer))\n",
    "else:\n",
    "    print(answer)"
   ]
  },
  {
   "cell_type": "markdown",
   "metadata": {},
   "source": [
    "上面的例子有一个问题：对verbose的值出现大于2的情况一律默认为0。使用choices参数限制verbose的值的范围。如果超出范围就报错。"
   ]
  },
  {
   "cell_type": "code",
   "execution_count": null,
   "metadata": {},
   "outputs": [],
   "source": [
    "import argparse\n",
    "parser = argparse.ArgumentParser()\n",
    "parser.add_argument(\"square\", type=int,\n",
    "                    help=\"display a square of a given number\")\n",
    "parser.add_argument(\"-v\", \"--verbose\", type=int, choices=[0, 1, 2],\n",
    "                    help=\"increase output verbosity\")\n",
    "# args = parser.parse_args('4 -v 1'.split())\n",
    "args = parser.parse_args('4 -v 2'.split())\n",
    "# args = parser.parse_args('4 -v 3'.split())\n",
    "\n",
    "answer = args.square**2\n",
    "if args.verbose == 2:\n",
    "    print(\"the square of {} equals {}\".format(args.square, answer))\n",
    "elif args.verbose == 1:\n",
    "    print(\"{}^2 == {}\".format(args.square, answer))\n",
    "else:\n",
    "    print(answer)"
   ]
  },
  {
   "cell_type": "markdown",
   "metadata": {},
   "source": [
    "这里，我们用一个更加常用的写法。使用action=“count”。当对应的可选参数没有给出时，默认为None；可选参数出现几次，即把值赋值给可选参数。"
   ]
  },
  {
   "cell_type": "code",
   "execution_count": null,
   "metadata": {},
   "outputs": [],
   "source": [
    "import argparse\n",
    "parser = argparse.ArgumentParser()\n",
    "parser.add_argument(\"square\", type=int,\n",
    "                    help=\"display the square of a given number\")\n",
    "parser.add_argument(\"-v\", \"--verbose\", action=\"count\",\n",
    "                    help=\"increase output verbosity\")\n",
    "\n",
    "# args = parser.parse_args('4'.split())\n",
    "# args = parser.parse_args('4 -v'.split())\n",
    "# args = parser.parse_args('4 -vv'.split())\n",
    "args = parser.parse_args('4 -vvv'.split())\n",
    "\n",
    "answer = args.square**2\n",
    "if args.verbose == 2:\n",
    "    print(\"the square of {} equals {}\".format(args.square, answer))\n",
    "elif args.verbose == 1:\n",
    "    print(\"{}^2 == {}\".format(args.square, answer))\n",
    "else:\n",
    "    print(answer)"
   ]
  },
  {
   "cell_type": "markdown",
   "metadata": {},
   "source": [
    "上面的例子对于count>2的输出和None一样。需要修改。如下所示："
   ]
  },
  {
   "cell_type": "code",
   "execution_count": null,
   "metadata": {},
   "outputs": [],
   "source": [
    "import argparse\n",
    "parser = argparse.ArgumentParser()\n",
    "parser.add_argument(\"square\", type=int,\n",
    "                    help=\"display the square of a given number\")\n",
    "parser.add_argument(\"-v\", \"--verbose\", action=\"count\",\n",
    "                    help=\"increase output verbosity\")\n",
    "\n",
    "args = parser.parse_args('4'.split())\n",
    "# args = parser.parse_args('4 -v'.split())\n",
    "# args = parser.parse_args('4 -vv'.split())\n",
    "# args = parser.parse_args('4 -vvv'.split())\n",
    "\n",
    "answer = args.square**2\n",
    "if args.verbose >= 2:\n",
    "    print(\"the square of {} equals {}\".format(args.square, answer))\n",
    "elif args.verbose >= 1:\n",
    "    print(\"{}^2 == {}\".format(args.square, answer))\n",
    "else:\n",
    "    print(answer)"
   ]
  },
  {
   "cell_type": "markdown",
   "metadata": {},
   "source": [
    "但是，上面的代码带来一个问题，当verbose为None时，'>=' 不支持 'NoneType' 和 'int'比较。所以，当对应的可选参数没有给出时，默认为None并不是我们所需要的。注意，这里的默认为None是谁默认呢？是default默认的。所以，我们最好是修改默认值为0,使用default=0。如下所示。如果的default的值是string类型如default='0',parser会把它当作从命令行读取的参数,如果需要转换可以使用type。"
   ]
  },
  {
   "cell_type": "code",
   "execution_count": null,
   "metadata": {},
   "outputs": [],
   "source": [
    "import argparse\n",
    "parser = argparse.ArgumentParser()\n",
    "parser.add_argument(\"square\", type=int,\n",
    "                    help=\"display the square of a given number\")\n",
    "parser.add_argument(\"-v\", \"--verbose\", action=\"count\",  default=0,\n",
    "                    help=\"increase output verbosity\")\n",
    "\n",
    "args = parser.parse_args('4'.split())\n",
    "# args = parser.parse_args('4 -v'.split())\n",
    "# args = parser.parse_args('4 -vv'.split())\n",
    "# args = parser.parse_args('4 -vvv'.split())\n",
    "\n",
    "answer = args.square**2\n",
    "if args.verbose >= 2:\n",
    "    print(\"the square of {} equals {}\".format(args.square, answer))\n",
    "elif args.verbose >= 1:\n",
    "    print(\"{}^2 == {}\".format(args.square, answer))\n",
    "else:\n",
    "    print(answer)"
   ]
  },
  {
   "cell_type": "markdown",
   "metadata": {},
   "source": [
    "一种特别的情况是：可以设置default使可选参数不添加至Namespace。"
   ]
  },
  {
   "cell_type": "code",
   "execution_count": null,
   "metadata": {},
   "outputs": [],
   "source": [
    "import argparse\n",
    "parser = argparse.ArgumentParser()\n",
    "parser.add_argument('--foo', default=argparse.SUPPRESS)\n",
    "\n",
    "# Namespace(foo=None)\n",
    "# parser.add_argument('--foo')\n",
    "\n",
    "print(parser.parse_args([]))\n",
    "\n",
    "print(parser.parse_args(['--foo', '1']))"
   ]
  },
  {
   "cell_type": "markdown",
   "metadata": {},
   "source": [
    "现在我们换个更加复杂的例子。这个例子在创建parser实例的时候运用了description参数。可以说明程序的作用。最大的变化是增加了一个add_mutually_exclusive_group()，意味着该group里面的argument都是互斥的。"
   ]
  },
  {
   "cell_type": "code",
   "execution_count": null,
   "metadata": {},
   "outputs": [],
   "source": [
    "import argparse\n",
    "\n",
    "parser = argparse.ArgumentParser(description=\"calculate X to the power of Y\")\n",
    "group = parser.add_mutually_exclusive_group()\n",
    "group.add_argument(\"-v\", \"--verbose\", action=\"store_true\")\n",
    "group.add_argument(\"-q\", \"--quiet\", action=\"store_true\")\n",
    "parser.add_argument(\"x\", type=int, help=\"the base\")\n",
    "parser.add_argument(\"y\", type=int, help=\"the exponent\")\n",
    "\n",
    "# args = parser.parse_args('4 2'.split())\n",
    "args = parser.parse_args('4 2 -v'.split())\n",
    "# args = parser.parse_args('4 2 -q'.split())\n",
    "# args = parser.parse_args('4 2 -vq'.split())\n",
    "# args = parser.parse_args('-h'.split())\n",
    "\n",
    "answer = args.x**args.y\n",
    "\n",
    "if args.quiet:\n",
    "    print(answer)\n",
    "elif args.verbose:\n",
    "    print(\"{} to the power {} equals {}\".format(args.x, args.y, answer))\n",
    "else:\n",
    "    print(\"{}^{} == {}\".format(args.x, args.y, answer))\n"
   ]
  },
  {
   "cell_type": "markdown",
   "metadata": {},
   "source": [
    "ArgumentParser.add_argument()这个函数还有一些有趣的参数需要说明一下。如metavar，nargs和dest。dest参数决定namespace对象中属性的名称。对于位置参数而言，就是add_argument()的第一个参数。对于可选参数而言，dest的值通常根据其字符串推断而来。推断的方式是首选长字符串，并将前面的--去除；次选短字符串，并将前面的-去除；最后，内部若有-改为_。\n",
    "\n",
    "```py\n",
    ">>> parser = argparse.ArgumentParser()\n",
    ">>> parser.add_argument('-f', '--foo-bar', '--foo')\n",
    ">>> parser.add_argument('-x', '-y')\n",
    ">>> parser.parse_args('-f 1 -x 2'.split())\n",
    "Namespace(foo_bar='1', x='2')\n",
    ">>> parser.parse_args('--foo 1 -y 2'.split())\n",
    "Namespace(foo_bar='1', x='2')\n",
    "```\n",
    "\n",
    "当然，你可以自己指定dest的值\n",
    "\n",
    "```py\n",
    ">>> parser = argparse.ArgumentParser()\n",
    ">>> parser.add_argument('--foo', dest='bar')\n",
    ">>> parser.parse_args('--foo XXX'.split())\n",
    "Namespace(bar='XXX')\n",
    "```\n",
    "\n",
    "metavar也是和参数名字有关，但它是设置帮助信息中的参数名字。这些参数名称是有默认值的。由dest决定,从Namespace对象中获取。位置参数名直接用，可选参数名变大写。\n",
    "\n",
    "```py\n",
    ">>> parser = argparse.ArgumentParser()\n",
    ">>> parser.add_argument('--foo')\n",
    ">>> parser.add_argument('bar')\n",
    ">>> parser.parse_args('X --foo Y'.split())\n",
    "Namespace(bar='X', foo='Y')\n",
    ">>> parser.print_help()\n",
    "usage:  [-h] [--foo FOO] bar\n",
    "\n",
    "positional arguments:\n",
    " bar\n",
    "\n",
    "optional arguments:\n",
    " -h, --help  show this help message and exit\n",
    " --foo FOO\n",
    "```\n",
    "\n",
    "当然，你可以自己指定metavar的值。\n",
    "\n",
    "```py\n",
    ">>> parser = argparse.ArgumentParser()\n",
    ">>> parser.add_argument('--foo', metavar='YYY')\n",
    ">>> parser.add_argument('bar', metavar='XXX')\n",
    ">>> parser.parse_args('X --foo Y'.split())\n",
    "Namespace(bar='X', foo='Y')\n",
    ">>> parser.print_help()\n",
    "usage:  [-h] [--foo YYY] XXX\n",
    "\n",
    "positional arguments:\n",
    " XXX\n",
    "\n",
    "optional arguments:\n",
    " -h, --help  show this help message and exit\n",
    " --foo YYY\n",
    "```\n",
    "\n",
    "nargs稍微复杂一些。\n",
    "\n",
    "1. 从命令行收集N个参数,哪怕N为1也要返回list\n",
    "```py\n",
    ">>> parser = argparse.ArgumentParser()\n",
    ">>> parser.add_argument('--foo', nargs=2)\n",
    ">>> parser.add_argument('bar', nargs=1)\n",
    ">>> parser.parse_args('c --foo a b'.split())\n",
    "Namespace(bar=['c'], foo=['a', 'b'])\n",
    "```\n",
    "\n",
    "2. ？命令行收集一个，返回一个。对于位置参数而言，命令行没有用default值；对于可选参数而言出现2种情况:1.给了可选参数名，没有给值，使用const的值，2.啥也没有给使用default的值。\n",
    "\n",
    "```py\n",
    ">>> parser = argparse.ArgumentParser()\n",
    ">>> parser.add_argument('--foo', nargs='?', const='c', default='d')\n",
    ">>> parser.add_argument('bar', nargs='?', default='d')\n",
    ">>> parser.parse_args(['XX', '--foo', 'YY'])\n",
    "Namespace(bar='XX', foo='YY')\n",
    ">>> parser.parse_args(['XX', '--foo'])\n",
    "Namespace(bar='XX', foo='c')\n",
    ">>> parser.parse_args([])\n",
    "Namespace(bar='d', foo='d')\n",
    "```\n",
    "\n",
    "一个常用用法：\n",
    "```py\n",
    ">>> parser = argparse.ArgumentParser()\n",
    ">>> parser.add_argument('infile', nargs='?', type=argparse.FileType('r'),\n",
    "...                     default=sys.stdin)\n",
    ">>> parser.add_argument('outfile', nargs='?', type=argparse.FileType('w'),\n",
    "...                     default=sys.stdout)\n",
    ">>> parser.parse_args(['input.txt', 'output.txt'])\n",
    "Namespace(infile=<_io.TextIOWrapper name='input.txt' encoding='UTF-8'>,\n",
    "          outfile=<_io.TextIOWrapper name='output.txt' encoding='UTF-8'>)\n",
    ">>> parser.parse_args([])\n",
    "Namespace(infile=<_io.TextIOWrapper name='<stdin>' encoding='UTF-8'>,\n",
    "          outfile=<_io.TextIOWrapper name='<stdout>' encoding='UTF-8'>)\n",
    "```\n",
    "\n",
    "3. ‘*’ 命令行参数有几个值就收集几个值。返回list\n",
    "```py\n",
    ">>> parser = argparse.ArgumentParser()\n",
    ">>> parser.add_argument('--foo', nargs='*')\n",
    ">>> parser.add_argument('--bar', nargs='*')\n",
    ">>> parser.add_argument('baz', nargs='*')\n",
    ">>> parser.parse_args('a b --foo x y --bar 1 2'.split())\n",
    "Namespace(bar=['1', '2'], baz=['a', 'b'], foo=['x', 'y'])\n",
    "```\n",
    "\n",
    "4. ‘+’ 类似上面，如果啥都没有回报错。\n",
    "```py\n",
    ">>> parser = argparse.ArgumentParser(prog='PROG')\n",
    ">>> parser.add_argument('foo', nargs='+')\n",
    ">>> parser.parse_args(['a', 'b'])\n",
    "Namespace(foo=['a', 'b'])\n",
    ">>> parser.parse_args([])\n",
    "usage: PROG [-h] foo [foo ...]\n",
    "PROG: error: the following arguments are required: foo\n",
    "```\n",
    "\n",
    "5. argparse.REMAINDER，收集剩下的，返回list\n",
    "```py\n",
    ">>> parser = argparse.ArgumentParser(prog='PROG')\n",
    ">>> parser.add_argument('--foo')\n",
    ">>> parser.add_argument('command')\n",
    ">>> parser.add_argument('args', nargs=argparse.REMAINDER)\n",
    ">>> print(parser.parse_args('--foo B cmd --arg1 XX ZZ'.split()))\n",
    "Namespace(args=['--arg1', 'XX', 'ZZ'], command='cmd', foo='B')\n",
    "```\n",
    "\n",
    "如果nargs没有给出，则根据action决定。一般来说都是单一值，不是list。"
   ]
  },
  {
   "cell_type": "markdown",
   "metadata": {},
   "source": [
    "下面的这个例子运用了以上3个参数。体会一下。"
   ]
  },
  {
   "cell_type": "code",
   "execution_count": null,
   "metadata": {},
   "outputs": [],
   "source": [
    "import argparse\n",
    "\n",
    "parser = argparse.ArgumentParser(description='Process some integers.')\n",
    "parser.add_argument('integers', metavar='N', type=int, nargs='+',\n",
    "                    help='an integer for the accumulator')\n",
    "parser.add_argument('--sum', dest='accumulate', action='store_const',\n",
    "                    const=sum, default=max,\n",
    "                    help='sum the integers (default: find the max)')\n",
    "\n",
    "args = parser.parse_args('1 2 3 4'.split())\n",
    "# args = parser.parse_args('1 2 3 4 --sum'.split())\n",
    "parser.print_help()\n",
    "print(args)\n",
    "print(args.accumulate(args.integers))"
   ]
  },
  {
   "cell_type": "markdown",
   "metadata": {},
   "source": [
    "对于parse_args()方法，需要了解一下语法\n",
    "```py\n",
    "# 长的可以用=\n",
    ">>> parser.parse_args(['--foo=FOO'])\n",
    "Namespace(foo='FOO', x=None)\n",
    "\n",
    "# 短的可以连在一起\n",
    ">>> parser.parse_args(['-xX'])\n",
    "Namespace(foo=None, x='X')\n",
    "\n",
    "# 更加复杂一点的\n",
    ">>> parser = argparse.ArgumentParser(prog='PROG')\n",
    ">>> parser.add_argument('-x', action='store_true')\n",
    ">>> parser.add_argument('-y', action='store_true')\n",
    ">>> parser.add_argument('-z')\n",
    ">>> parser.parse_args(['-xyzZ'])\n",
    "Namespace(x=True, y=True, z='Z')\n",
    "```\n",
    "还需要了解一下特殊情况如：-1 是位置参数的值or可选参数名\n",
    "\n",
    "```py\n",
    ">>> parser = argparse.ArgumentParser(prog='PROG')\n",
    ">>> parser.add_argument('-x')\n",
    ">>> parser.add_argument('foo', nargs='?')\n",
    "\n",
    ">>> # no negative number options, so -1 is a positional argument\n",
    ">>> parser.parse_args(['-x', '-1'])\n",
    "Namespace(foo=None, x='-1')\n",
    "\n",
    ">>> # no negative number options, so -1 and -5 are positional arguments\n",
    ">>> parser.parse_args(['-x', '-1', '-5'])\n",
    "Namespace(foo='-5', x='-1')\n",
    "\n",
    ">>> parser = argparse.ArgumentParser(prog='PROG')\n",
    ">>> parser.add_argument('-1', dest='one')\n",
    ">>> parser.add_argument('foo', nargs='?')\n",
    "\n",
    ">>> # negative number options present, so -1 is an option\n",
    ">>> parser.parse_args(['-1', 'X'])\n",
    "Namespace(foo=None, one='X')\n",
    "\n",
    ">>> # negative number options present, so -2 is an option\n",
    ">>> parser.parse_args(['-2'])\n",
    "usage: PROG [-h] [-1 ONE] [foo]\n",
    "PROG: error: no such option: -2\n",
    "\n",
    ">>> # negative number options present, so both -1s are options\n",
    ">>> parser.parse_args(['-1', '-1'])\n",
    "usage: PROG [-h] [-1 ONE] [foo]\n",
    "PROG: error: argument -1: expected one argument\n",
    "\n",
    "# -- 之后均为位置参数值\n",
    ">>> parser.parse_args(['--', '-f'])\n",
    "Namespace(foo='-f', one=None)\n",
    "```"
   ]
  }
 ],
 "metadata": {
  "kernelspec": {
   "display_name": "Python [conda root]",
   "language": "python",
   "name": "conda-root-py"
  },
  "language_info": {
   "codemirror_mode": {
    "name": "ipython",
    "version": 3
   },
   "file_extension": ".py",
   "mimetype": "text/x-python",
   "name": "python",
   "nbconvert_exporter": "python",
   "pygments_lexer": "ipython3",
   "version": "3.6.5"
  }
 },
 "nbformat": 4,
 "nbformat_minor": 2
}
