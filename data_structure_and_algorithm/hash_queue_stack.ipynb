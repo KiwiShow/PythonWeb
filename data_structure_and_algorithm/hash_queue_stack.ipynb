{
 "cells": [
  {
   "cell_type": "code",
   "execution_count": 15,
   "metadata": {
    "collapsed": true
   },
   "outputs": [
    {
     "name": "stdout",
     "output_type": "stream",
     "text": [
      "118058 8047\n112981 2970\n10930 929\n12226923 5701\n"
     ]
    }
   ],
   "source": [
    "# 演示一个简单的哈希函数\n",
    "def hash(s):\n",
    "    n = 1\n",
    "    f = 1\n",
    "    for i in s:\n",
    "        ascii = ord(i)\n",
    "        n += ascii * f\n",
    "        f *= 10\n",
    "    return n\n",
    "\n",
    "\n",
    "names = [\n",
    "    'kiwi',\n",
    "    'name',\n",
    "    'web',\n",
    "    'python',\n",
    "]\n",
    "\n",
    "\n",
    "for key in names:\n",
    "   h = hash(key)\n",
    "   print(h, h % 10001)"
   ]
  },
  {
   "cell_type": "code",
   "execution_count": 11,
   "metadata": {
    "collapsed": false
   },
   "outputs": [
    {
     "name": "stdout",
     "output_type": "stream",
     "text": [
      "111 > 222 > 333 > \n111 > 222 > 333 > kiwi > \nNone > hello > 111 > 222 > 333 > kiwi > \npop you:  kiwi\nNone > hello > 111 > 222 > 333 > \n"
     ]
    }
   ],
   "source": [
    "# 定义一个Node并初始化\n",
    "class Node():\n",
    "     def __init__(self, element=None):\n",
    "         self.e = element\n",
    "         self.next = None\n",
    "         \n",
    "\n",
    "head = Node()\n",
    "n1 = Node(111)\n",
    "n2 = Node(222)\n",
    "n3 = Node(333)\n",
    "n1.next = n2\n",
    "n2.next = n3\n",
    "\n",
    "head.next = n1\n",
    "\n",
    "\n",
    "def append(node, element):\n",
    "    \"\"\"\n",
    "    我们往 node 的末尾插入一个元素\n",
    "    :param node: 是一个 Node 实例\n",
    "    :param element: 任意类型的元素\n",
    "    \"\"\"\n",
    "    n = node\n",
    "    while n.next is not None:\n",
    "        n = n.next\n",
    "    # n 现在是最后一个元素\n",
    "    new_node = Node(element)\n",
    "    n.next = new_node\n",
    "    \n",
    "    \n",
    "def prepend(head, element):\n",
    "    \"\"\"\n",
    "    在node前面插入一个元素\n",
    "    但是此元素位于head之后\n",
    "    \"\"\"\n",
    "    n = Node(element)\n",
    "    n.next = head.next\n",
    "    head.next = n \n",
    "    \n",
    "    \n",
    "def pop(head):\n",
    "    \"\"\"\n",
    "    pop 是 stack 的两个操作之一\n",
    "    push 入栈\n",
    "    pop 出栈\n",
    "\n",
    "    现在我们有这么 3 个函数\n",
    "    append 添加一个元素到末尾\n",
    "    prepend 添加一个元素到开头\n",
    "    pop 删除并返回末尾的元素\n",
    "\n",
    "    prepend + pop 就实现了 队列 的 入队(enqueue)和出队(dequeue)操作\n",
    "    append + pop 就实现了 栈 的 入栈(push) 和 出栈(pop)操作\n",
    "    \"\"\"\n",
    "    tail = head\n",
    "    while tail.next is not None:\n",
    "        tail = tail.next\n",
    "    # 现在 tail 是最后一个元素了        \n",
    "    n = head\n",
    "    while n.next is not tail:\n",
    "        n = n.next\n",
    "    # 现在 n 是 tail 之前的元素了        \n",
    "    n.next = None\n",
    "    return tail.e\n",
    "    \n",
    "    \n",
    "def log_list(node):\n",
    "    \"\"\"\n",
    "    从node开始遍历，一直到尾\n",
    "    \"\"\"\n",
    "    n = node\n",
    "    s = ''\n",
    "    while n is not None:\n",
    "        s += (str(n.e) + ' > ')\n",
    "        n = n.next\n",
    "    print(s)\n",
    " \n",
    "    \n",
    "log_list(n1)\n",
    "append(n1, 'kiwi')\n",
    "log_list(n1)\n",
    "prepend(head, 'hello')\n",
    "log_list(head)\n",
    "print('pop you: ', pop(head))\n",
    "log_list(head)"
   ]
  }
 ],
 "metadata": {
  "kernelspec": {
   "display_name": "Python 2",
   "language": "python",
   "name": "python2"
  },
  "language_info": {
   "codemirror_mode": {
    "name": "ipython",
    "version": 2
   },
   "file_extension": ".py",
   "mimetype": "text/x-python",
   "name": "python",
   "nbconvert_exporter": "python",
   "pygments_lexer": "ipython2",
   "version": "2.7.6"
  }
 },
 "nbformat": 4,
 "nbformat_minor": 0
}
